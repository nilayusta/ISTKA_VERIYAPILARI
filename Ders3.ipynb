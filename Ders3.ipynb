{
  "nbformat": 4,
  "nbformat_minor": 0,
  "metadata": {
    "colab": {
      "provenance": []
    },
    "kernelspec": {
      "name": "python3",
      "display_name": "Python 3"
    },
    "language_info": {
      "name": "python"
    }
  },
  "cells": [
    {
      "cell_type": "code",
      "execution_count": 1,
      "metadata": {
        "colab": {
          "base_uri": "https://localhost:8080/"
        },
        "id": "n_VjmbjzuCc8",
        "outputId": "fada73f4-6d0d-4b36-9343-64a5962c3f79"
      },
      "outputs": [
        {
          "output_type": "stream",
          "name": "stdout",
          "text": [
            "Merhaba, İGÜ - İSTKA / Ders 3\n"
          ]
        }
      ],
      "source": [
        "print(\"Merhaba, İGÜ - İSTKA / Ders 3\") # print ekrana çıktı veren bir koddur."
      ]
    },
    {
      "cell_type": "code",
      "source": [
        "import sys # import python programlama dilinde yazılıma kütüphane eklemeye yarayan bir kod blogudur.\n",
        "print(sys.version)"
      ],
      "metadata": {
        "colab": {
          "base_uri": "https://localhost:8080/"
        },
        "id": "bActWW1fuLrL",
        "outputId": "d9922443-b557-4b4b-a7a7-288464e8e4ae"
      },
      "execution_count": 2,
      "outputs": [
        {
          "output_type": "stream",
          "name": "stdout",
          "text": [
            "3.10.12 (main, Jul 29 2024, 16:56:48) [GCC 11.4.0]\n"
          ]
        }
      ]
    },
    {
      "cell_type": "code",
      "source": [
        "from google.colab import drive # google colab - drive bağlantısı\n",
        "\n",
        "drive.mount('/content/drive')"
      ],
      "metadata": {
        "colab": {
          "base_uri": "https://localhost:8080/"
        },
        "id": "ou1B3fhCuLur",
        "outputId": "09fdf95e-9c24-44f3-df38-f069a02a3452"
      },
      "execution_count": 3,
      "outputs": [
        {
          "output_type": "stream",
          "name": "stdout",
          "text": [
            "Mounted at /content/drive\n"
          ]
        }
      ]
    },
    {
      "cell_type": "code",
      "source": [
        "import os\n",
        "\n",
        "os.chdir('/content/drive/My Drive/VERIYAPILARI_ISTKA')\n",
        "\n",
        "!pwd # bize kodun çıktısını dosya yolu olarak veren kod blogudur."
      ],
      "metadata": {
        "colab": {
          "base_uri": "https://localhost:8080/"
        },
        "id": "jW_VtKQhuLzT",
        "outputId": "8f2d68f0-a808-4448-ee03-3e592bc7d408"
      },
      "execution_count": 4,
      "outputs": [
        {
          "output_type": "stream",
          "name": "stdout",
          "text": [
            "/content/drive/My Drive/VERIYAPILARI_ISTKA\n"
          ]
        }
      ]
    },
    {
      "cell_type": "code",
      "source": [
        "# if Koşul yapısı\n",
        "\n",
        "x = 10\n",
        "\n",
        "if x > 5:\n",
        "    print(\"x, 5'ten büyüktür.\")"
      ],
      "metadata": {
        "colab": {
          "base_uri": "https://localhost:8080/"
        },
        "id": "EImKucgYuL1T",
        "outputId": "3db3a49c-446f-4234-9921-dbd1e4adf120"
      },
      "execution_count": 5,
      "outputs": [
        {
          "output_type": "stream",
          "name": "stdout",
          "text": [
            "x, 5'ten büyüktür.\n"
          ]
        }
      ]
    },
    {
      "cell_type": "code",
      "source": [
        "# if-else Koşulu yapısı\n",
        "\n",
        "x = 3\n",
        "\n",
        "if x > 5:\n",
        "    print(\"x, 5'ten büyüktür.\")\n",
        "else:\n",
        "    print(\"x, 5'ten küçük veya eşittir.\")"
      ],
      "metadata": {
        "colab": {
          "base_uri": "https://localhost:8080/"
        },
        "id": "MozJRFmd03o2",
        "outputId": "5755ec66-e19c-4910-8ba1-12292c6366f7"
      },
      "execution_count": 6,
      "outputs": [
        {
          "output_type": "stream",
          "name": "stdout",
          "text": [
            "x, 5'ten küçük veya eşittir.\n"
          ]
        }
      ]
    },
    {
      "cell_type": "code",
      "source": [
        "# if-elif-else Koşul Yapısı\n",
        "\n",
        "x = 8\n",
        "\n",
        "if x > 10:\n",
        "    print(\"x, 10'dan büyüktür.\")\n",
        "elif x > 5:\n",
        "    print(\"x, 5'ten büyüktür ama 10'dan küçük veya eşittir.\")\n",
        "else:\n",
        "    print(\"x, 5'ten küçük veya eşittir.\")"
      ],
      "metadata": {
        "colab": {
          "base_uri": "https://localhost:8080/"
        },
        "id": "7uBuayb-03tk",
        "outputId": "e47ce26b-9b7e-4c22-d883-6fdd65e40f2c"
      },
      "execution_count": 7,
      "outputs": [
        {
          "output_type": "stream",
          "name": "stdout",
          "text": [
            "x, 5'ten büyüktür ama 10'dan küçük veya eşittir.\n"
          ]
        }
      ]
    },
    {
      "cell_type": "code",
      "source": [
        "# İç İçe Koşul Yapısı\n",
        "\n",
        "x = 12\n",
        "y = 8\n",
        "\n",
        "if x > 10:\n",
        "    if y > 5:\n",
        "        print(\"x, 10'dan büyük ve y, 5'ten büyüktür.\")  # Bu satır çalışır\n",
        "    else:\n",
        "        print(\"x, 10'dan büyük ama y, 5'ten küçük veya eşittir.\")\n",
        "else:\n",
        "    print(\"x, 10'dan küçük veya eşittir.\")"
      ],
      "metadata": {
        "colab": {
          "base_uri": "https://localhost:8080/"
        },
        "id": "pV4FazpGB2I8",
        "outputId": "1e13d3d0-a3a7-41fd-8cd1-7629c8891761"
      },
      "execution_count": 8,
      "outputs": [
        {
          "output_type": "stream",
          "name": "stdout",
          "text": [
            "x, 10'dan büyük ve y, 5'ten büyüktür.\n"
          ]
        }
      ]
    },
    {
      "cell_type": "code",
      "source": [
        "# Mantıksal Operatörler ile Koşullar\n",
        "\n",
        "x = 7\n",
        "y = 3\n",
        "\n",
        "# 'and' operatörü ile\n",
        "if x > 5 and y > 2:\n",
        "    print(\"x, 5'ten büyük ve y, 2'den büyüktür.\")  # Bu satır çalışır\n",
        "\n",
        "# 'or' operatörü ile\n",
        "if x > 5 or y > 5:\n",
        "    print(\"x veya y, 5'ten büyüktür.\")  # Bu satır çalışır\n",
        "\n",
        "# 'not' operatörü ile\n",
        "if not (x > 10):\n",
        "    print(\"x, 10'dan büyük değildir.\")  # Bu satır çalışır\n",
        ""
      ],
      "metadata": {
        "colab": {
          "base_uri": "https://localhost:8080/"
        },
        "id": "M2qIME9zB2RL",
        "outputId": "dfd8ff24-bdd8-4974-a05c-a73551708755"
      },
      "execution_count": 9,
      "outputs": [
        {
          "output_type": "stream",
          "name": "stdout",
          "text": [
            "x, 5'ten büyük ve y, 2'den büyüktür.\n",
            "x veya y, 5'ten büyüktür.\n",
            "x, 10'dan büyük değildir.\n"
          ]
        }
      ]
    },
    {
      "cell_type": "code",
      "source": [
        "# Örnek 1: Not Sistemi\n",
        "\n",
        "notu = 85 #not farkını gösterilecek...\n",
        "\n",
        "if notu >= 90:\n",
        "    print(\"Harf notu: A\")\n",
        "elif notu >= 80:\n",
        "    print(\"Harf notu: B\")  # Bu satır çalışır\n",
        "elif notu >= 70:\n",
        "    print(\"Harf notu: C\")\n",
        "elif notu >= 60:\n",
        "    print(\"Harf notu: D\")\n",
        "else:\n",
        "    print(\"Harf notu: F\")"
      ],
      "metadata": {
        "colab": {
          "base_uri": "https://localhost:8080/"
        },
        "id": "-b6mYOgOB2Uj",
        "outputId": "5c317445-cc27-40d2-f80e-684945f96a93"
      },
      "execution_count": 10,
      "outputs": [
        {
          "output_type": "stream",
          "name": "stdout",
          "text": [
            "Harf notu: B\n"
          ]
        }
      ]
    },
    {
      "cell_type": "code",
      "source": [
        "# Örnek 2: Yaş Kontrolü\n",
        "\n",
        "yas = 20\n",
        "\n",
        "if yas < 18:\n",
        "    print(\"Reşit değilsiniz.\")\n",
        "elif yas < 21:\n",
        "    print(\"Reşitsiniz ama içecek satın alamazsınız.\")\n",
        "else:\n",
        "    print(\"İçecek satın alabilirsiniz.\")"
      ],
      "metadata": {
        "colab": {
          "base_uri": "https://localhost:8080/"
        },
        "id": "KCk4ueLe03xv",
        "outputId": "ed4bd8f0-80fb-4cca-b390-fd0fc3f5dc49"
      },
      "execution_count": 11,
      "outputs": [
        {
          "output_type": "stream",
          "name": "stdout",
          "text": [
            "Reşitsiniz ama içecek satın alamazsınız.\n"
          ]
        }
      ]
    },
    {
      "cell_type": "code",
      "source": [
        "# Örnek 3: Sayı Pozitif, Negatif veya Sıfır mı?\n",
        "\n",
        "sayi = int(input(\"Bir sayı gir\"))\n",
        "\n",
        "if sayi > 0:\n",
        "    print(\"Sayı pozitiftir.\")\n",
        "elif sayi < 0:\n",
        "    print(\"Sayı negatiftir.\")  # Bu satır çalışır\n",
        "else:\n",
        "    print(\"Sayı sıfırdır.\")"
      ],
      "metadata": {
        "colab": {
          "base_uri": "https://localhost:8080/"
        },
        "id": "KrBOAY2C0319",
        "outputId": "1244882d-d80f-48f9-ee7b-edf8a630a173"
      },
      "execution_count": 12,
      "outputs": [
        {
          "output_type": "stream",
          "name": "stdout",
          "text": [
            "Bir sayı gir5\n",
            "Sayı pozitiftir.\n"
          ]
        }
      ]
    }
  ]
}