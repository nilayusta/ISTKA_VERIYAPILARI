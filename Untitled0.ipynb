{
  "nbformat": 4,
  "nbformat_minor": 0,
  "metadata": {
    "colab": {
      "provenance": []
    },
    "kernelspec": {
      "name": "python3",
      "display_name": "Python 3"
    },
    "language_info": {
      "name": "python"
    }
  },
  "cells": [
    {
      "cell_type": "code",
      "execution_count": 1,
      "metadata": {
        "id": "rjAsd8c42cAs",
        "colab": {
          "base_uri": "https://localhost:8080/"
        },
        "outputId": "8163a44c-2b3c-402b-8678-6b5879821683"
      },
      "outputs": [
        {
          "output_type": "stream",
          "name": "stdout",
          "text": [
            "Merhaba, İGÜ-İstka /Ders 1!\n"
          ]
        }
      ],
      "source": [
        "print(\"Merhaba, İGÜ-İstka /Ders 1!\")"
      ]
    },
    {
      "cell_type": "markdown",
      "source": [
        "print ekrana çıktı veren koddur. 19.08.2024"
      ],
      "metadata": {
        "id": "IQ3Zx7Cr6u6h"
      }
    },
    {
      "cell_type": "code",
      "source": [
        "import sys\n",
        "print(sys.version)"
      ],
      "metadata": {
        "colab": {
          "base_uri": "https://localhost:8080/"
        },
        "id": "t7KVQgHQ3E6_",
        "outputId": "457f264a-392b-4cac-9c35-8f1c83080bd9"
      },
      "execution_count": 2,
      "outputs": [
        {
          "output_type": "stream",
          "name": "stdout",
          "text": [
            "3.10.12 (main, Jul 29 2024, 16:56:48) [GCC 11.4.0]\n"
          ]
        }
      ]
    },
    {
      "cell_type": "code",
      "source": [
        "from google.colab import drive\n",
        "drive.mount('/content/drive')"
      ],
      "metadata": {
        "colab": {
          "base_uri": "https://localhost:8080/"
        },
        "id": "ux8h7Hrq3FiH",
        "outputId": "45e58df2-305c-4265-f92b-702fbbf29ddb"
      },
      "execution_count": 3,
      "outputs": [
        {
          "output_type": "stream",
          "name": "stdout",
          "text": [
            "Mounted at /content/drive\n"
          ]
        }
      ]
    },
    {
      "cell_type": "code",
      "source": [
        "import os\n",
        "\n",
        "os.chdir('/content/drive/My Drive/VERIYAPILARI_ISTKA')\n",
        "\n",
        "!pwd"
      ],
      "metadata": {
        "colab": {
          "base_uri": "https://localhost:8080/"
        },
        "id": "8MThzy7S8_K_",
        "outputId": "2e7c25fb-3190-4d96-91e8-9e1ac40e616e"
      },
      "execution_count": 4,
      "outputs": [
        {
          "output_type": "stream",
          "name": "stdout",
          "text": [
            "/content/drive/My Drive/VERIYAPILARI_ISTKA\n"
          ]
        }
      ]
    },
    {
      "cell_type": "markdown",
      "source": [
        "Bize kodun çıktısını dosya yolu olarak veren kod blogudur.\n"
      ],
      "metadata": {
        "id": "9HS-Ff7x9HCv"
      }
    },
    {
      "cell_type": "code",
      "source": [],
      "metadata": {
        "id": "4BSvdDCO9UNm"
      },
      "execution_count": null,
      "outputs": []
    }
  ]
}